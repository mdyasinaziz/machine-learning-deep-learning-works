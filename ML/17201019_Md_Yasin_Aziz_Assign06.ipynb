{
  "nbformat": 4,
  "nbformat_minor": 0,
  "metadata": {
    "colab": {
      "name": "17201019_Md_Yasin_Aziz_Assign06.ipynb",
      "provenance": [],
      "collapsed_sections": []
    },
    "kernelspec": {
      "name": "python3",
      "display_name": "Python 3"
    }
  },
  "cells": [
    {
      "cell_type": "code",
      "metadata": {
        "id": "plYMFSdU6qSf"
      },
      "source": [
        "import pandas as pd\r\n",
        "import numpy as np\r\n",
        "import matplotlib.pyplot as plt\r\n",
        "import seaborn as sns\r\n",
        "from sklearn.metrics import accuracy_score\r\n",
        "from sklearn.model_selection import train_test_split\r\n",
        "from sklearn.metrics import classification_report\r\n",
        "from sklearn.impute import SimpleImputer\r\n",
        "from sklearn.svm import SVC\r\n",
        "from sklearn.ensemble import RandomForestClassifier\r\n",
        "from sklearn.neural_network import MLPClassifier\r\n",
        "from sklearn.decomposition import PCA \r\n",
        "from sklearn.preprocessing import StandardScaler"
      ],
      "execution_count": 11,
      "outputs": []
    },
    {
      "cell_type": "code",
      "metadata": {
        "colab": {
          "base_uri": "https://localhost:8080/"
        },
        "id": "UKEVMAfqEuQ-",
        "outputId": "e613aa4e-9084-42c3-88f0-406da4891470"
      },
      "source": [
        "data = pd.read_csv('heart failur classification dataset.csv')\r\n",
        "# handling missing values\r\n",
        "from sklearn.impute import SimpleImputer\r\n",
        "impute = SimpleImputer(missing_values=np.nan, strategy='mean')\r\n",
        "impute.fit(data[['serum_sodium']])\r\n",
        "data['serum_sodium'] = impute.transform(data[['serum_sodium']])\r\n",
        "impute.fit(data[['time']])\r\n",
        "data['time'] = impute.transform(data[['time']])\r\n",
        "\r\n",
        "#String to Integer\r\n",
        "\r\n",
        "data['sex'] = (data['sex'] == \"Female\").astype(int)\r\n",
        "data['smoking'] = (data['smoking'] == \"Yes\").astype(int)\r\n",
        "\r\n",
        "X = data.iloc[:,1:13] #data.iloc[:, 0:2] # first two columns of data frame with all rows. Source : git\r\n",
        "y = data.iloc[:,13] #If you are a beginner with Python, remember that df.iloc[:, 10] would refer to the eleventh column.\r\n",
        "x_train,x_test,y_train,y_test = train_test_split(X,y,test_size=0.2,random_state=2)\r\n",
        "\r\n",
        "svm = SVC(kernel=\"linear\")\r\n",
        "svm.fit(x_train, y_train)\r\n",
        "prePcaSvmTrainScore = round(svm.score(x_train, y_train)*100,2)\r\n",
        "prePcaSvmTestScore = round(svm.score(x_test, y_test)*100,2)\r\n",
        "print(\"Training accuracy of SVM is \" + str(prePcaSvmTrainScore))\r\n",
        "print(\"Testing accuracy of SVM is \"+ str(prePcaSvmTestScore))"
      ],
      "execution_count": 10,
      "outputs": [
        {
          "output_type": "stream",
          "text": [
            "Training accuracy of SVM is 80.75\n",
            "Testing accuracy of SVM is 85.0\n"
          ],
          "name": "stdout"
        }
      ]
    },
    {
      "cell_type": "code",
      "metadata": {
        "colab": {
          "base_uri": "https://localhost:8080/"
        },
        "id": "EG_eQAjC1ys5",
        "outputId": "bb9210f4-2fd3-4ee9-ba72-88d1c324c2d1"
      },
      "source": [
        "data = pd.read_csv('heart failur classification dataset.csv')\r\n",
        "# handling missing values\r\n",
        "from sklearn.impute import SimpleImputer\r\n",
        "impute = SimpleImputer(missing_values=np.nan, strategy='mean')\r\n",
        "impute.fit(data[['serum_sodium']])\r\n",
        "data['serum_sodium'] = impute.transform(data[['serum_sodium']])\r\n",
        "impute.fit(data[['time']])\r\n",
        "data['time'] = impute.transform(data[['time']])\r\n",
        "\r\n",
        "#String to Integer\r\n",
        "\r\n",
        "data['sex'] = (data['sex'] == \"Female\").astype(int)\r\n",
        "data['smoking'] = (data['smoking'] == \"Yes\").astype(int)\r\n",
        "\r\n",
        "X = data.iloc[:,1:13] #data.iloc[:, 0:2] # first two columns of data frame with all rows. Source : git\r\n",
        "y = data.iloc[:,13] #If you are a beginner with Python, remember that df.iloc[:, 10] would refer to the eleventh column.\r\n",
        "x_train,x_test,y_train,y_test = train_test_split(X,y,test_size=0.2,random_state=1)\r\n",
        "rfc = RandomForestClassifier(n_estimators=50)\r\n",
        "rfc.fit(x_train, y_train)\r\n",
        "prePcaRfcTrainScore = round(rfc.score(x_train, y_train)*100,2)\r\n",
        "prePcaRfcTestScore = round(rfc.score(x_test, y_test)*100,2)\r\n",
        "print(\"Training accuracy of Random Forest is \" + str(prePcaRfcTrainScore))\r\n",
        "print(\"Testing accuracy of Random Forest is \"+ str(prePcaRfcTestScore))"
      ],
      "execution_count": 14,
      "outputs": [
        {
          "output_type": "stream",
          "text": [
            "Training accuracy of Random Forest is 100.0\n",
            "Testing accuracy of Random Forest is 93.33\n"
          ],
          "name": "stdout"
        }
      ]
    },
    {
      "cell_type": "code",
      "metadata": {
        "colab": {
          "base_uri": "https://localhost:8080/"
        },
        "id": "bGSyYAmx2Sn1",
        "outputId": "9c0d618e-abfb-4a5c-c603-e22117b11693"
      },
      "source": [
        "data = pd.read_csv('heart failur classification dataset.csv')\r\n",
        "# handling missing values\r\n",
        "from sklearn.impute import SimpleImputer\r\n",
        "impute = SimpleImputer(missing_values=np.nan, strategy='mean')\r\n",
        "impute.fit(data[['serum_sodium']])\r\n",
        "data['serum_sodium'] = impute.transform(data[['serum_sodium']])\r\n",
        "impute.fit(data[['time']])\r\n",
        "data['time'] = impute.transform(data[['time']])\r\n",
        "\r\n",
        "#String to Integer\r\n",
        "\r\n",
        "data['sex'] = (data['sex'] == \"Female\").astype(int)\r\n",
        "data['smoking'] = (data['smoking'] == \"Yes\").astype(int)\r\n",
        "\r\n",
        "X = data.iloc[:,1:13] #data.iloc[:, 0:2] # first two columns of data frame with all rows. Source : git\r\n",
        "y = data.iloc[:,13] #If you are a beginner with Python, remember that df.iloc[:, 10] would refer to the eleventh column.\r\n",
        "x_train,x_test,y_train,y_test = train_test_split(X,y,test_size=0.2,random_state=5)\r\n",
        "\r\n",
        "nnc=MLPClassifier(hidden_layer_sizes=(10), activation=\"relu\", max_iter=1000000)\r\n",
        "nnc.fit(x_train, y_train)\r\n",
        "prePcaNncTrainScore = round(nnc.score(x_train, y_train)*100,2)\r\n",
        "prePcaNncTestScore = round(nnc.score(x_test, y_test)*100,2)\r\n",
        "print(\"Training accuracy of NNC is \" + str(prePcaNncTrainScore))\r\n",
        "print(\"Testing accuracy of NNC is \"+ str(prePcaNncTestScore))"
      ],
      "execution_count": 50,
      "outputs": [
        {
          "output_type": "stream",
          "text": [
            "Training accuracy of NNC is 69.04\n",
            "Testing accuracy of NNC is 71.67\n"
          ],
          "name": "stdout"
        }
      ]
    },
    {
      "cell_type": "code",
      "metadata": {
        "colab": {
          "base_uri": "https://localhost:8080/",
          "height": 204
        },
        "id": "0eZPPCLt42xh",
        "outputId": "77decaf3-30c8-4546-d783-916bee4b1255"
      },
      "source": [
        "data = pd.read_csv('heart failur classification dataset.csv')\r\n",
        "data = data.drop('Unnamed: 0',axis=1)\r\n",
        "# handling missing values\r\n",
        "from sklearn.impute import SimpleImputer\r\n",
        "impute = SimpleImputer(missing_values=np.nan, strategy='mean')\r\n",
        "impute.fit(data[['serum_sodium']])\r\n",
        "data['serum_sodium'] = impute.transform(data[['serum_sodium']])\r\n",
        "impute.fit(data[['time']])\r\n",
        "data['time'] = impute.transform(data[['time']])\r\n",
        "\r\n",
        "#String to Integer\r\n",
        "pd.options.mode.chained_assignment = None  # default='warn'\r\n",
        "data['sex'] = (data['sex'] == \"Female\").astype(int)\r\n",
        "data['smoking'] = (data['smoking'] == \"Yes\").astype(int)\r\n",
        "# data.target[data.target == 'no'] = 0 \r\n",
        "# data.target[data.target == 'yes'] = 1 \r\n",
        "\r\n",
        "# X = data.iloc[:,1:13] #data.iloc[:, 0:2] # first two columns of data frame with all rows. Source : git\r\n",
        "# y = data.iloc[:,13] #If you are a beginner with Python, remember that df.iloc[:, 10] would refer to the eleventh column.\r\n",
        "# x_train,x_test,y_train,y_test = train_test_split(X,y,test_size=0.2,random_state=2)\r\n",
        "\r\n",
        "scaler= StandardScaler()\r\n",
        "scaledData = scaler.fit_transform(data)\r\n",
        "\r\n",
        "n = int (data.shape[1]/2)\r\n",
        "\r\n",
        "pca = PCA(n_components=n)\r\n",
        "principal_components= pca.fit_transform(scaledData)\r\n",
        "\r\n",
        "principal_df = pd.DataFrame(data=principal_components, columns=[\"principle component 1\", \"principle component 2\",\"principle component 3\",\"principle component 4\",\"principle component 5\",\"principle component 6\"])\r\n",
        "main_df=pd.concat([principal_df, data[[\"DEATH_EVENT\"]]], axis=1)\r\n",
        "main_df.head()\r\n"
      ],
      "execution_count": 57,
      "outputs": [
        {
          "output_type": "execute_result",
          "data": {
            "text/html": [
              "<div>\n",
              "<style scoped>\n",
              "    .dataframe tbody tr th:only-of-type {\n",
              "        vertical-align: middle;\n",
              "    }\n",
              "\n",
              "    .dataframe tbody tr th {\n",
              "        vertical-align: top;\n",
              "    }\n",
              "\n",
              "    .dataframe thead th {\n",
              "        text-align: right;\n",
              "    }\n",
              "</style>\n",
              "<table border=\"1\" class=\"dataframe\">\n",
              "  <thead>\n",
              "    <tr style=\"text-align: right;\">\n",
              "      <th></th>\n",
              "      <th>principle component 1</th>\n",
              "      <th>principle component 2</th>\n",
              "      <th>principle component 3</th>\n",
              "      <th>principle component 4</th>\n",
              "      <th>principle component 5</th>\n",
              "      <th>principle component 6</th>\n",
              "      <th>DEATH_EVENT</th>\n",
              "    </tr>\n",
              "  </thead>\n",
              "  <tbody>\n",
              "    <tr>\n",
              "      <th>0</th>\n",
              "      <td>2.741284</td>\n",
              "      <td>0.308877</td>\n",
              "      <td>-0.036939</td>\n",
              "      <td>1.170216</td>\n",
              "      <td>-0.001897</td>\n",
              "      <td>-0.868146</td>\n",
              "      <td>1</td>\n",
              "    </tr>\n",
              "    <tr>\n",
              "      <th>1</th>\n",
              "      <td>1.047687</td>\n",
              "      <td>2.002183</td>\n",
              "      <td>2.650509</td>\n",
              "      <td>4.461132</td>\n",
              "      <td>4.408023</td>\n",
              "      <td>-0.806975</td>\n",
              "      <td>1</td>\n",
              "    </tr>\n",
              "    <tr>\n",
              "      <th>2</th>\n",
              "      <td>2.573130</td>\n",
              "      <td>2.157898</td>\n",
              "      <td>0.815297</td>\n",
              "      <td>-0.675540</td>\n",
              "      <td>-0.507443</td>\n",
              "      <td>-0.427182</td>\n",
              "      <td>1</td>\n",
              "    </tr>\n",
              "    <tr>\n",
              "      <th>3</th>\n",
              "      <td>2.029851</td>\n",
              "      <td>0.298239</td>\n",
              "      <td>0.336369</td>\n",
              "      <td>-0.822522</td>\n",
              "      <td>0.276008</td>\n",
              "      <td>-1.585671</td>\n",
              "      <td>1</td>\n",
              "    </tr>\n",
              "    <tr>\n",
              "      <th>4</th>\n",
              "      <td>3.437308</td>\n",
              "      <td>-1.583098</td>\n",
              "      <td>3.288859</td>\n",
              "      <td>-1.864557</td>\n",
              "      <td>-1.394623</td>\n",
              "      <td>1.099453</td>\n",
              "      <td>1</td>\n",
              "    </tr>\n",
              "  </tbody>\n",
              "</table>\n",
              "</div>"
            ],
            "text/plain": [
              "   principle component 1  ...  DEATH_EVENT\n",
              "0               2.741284  ...            1\n",
              "1               1.047687  ...            1\n",
              "2               2.573130  ...            1\n",
              "3               2.029851  ...            1\n",
              "4               3.437308  ...            1\n",
              "\n",
              "[5 rows x 7 columns]"
            ]
          },
          "metadata": {
            "tags": []
          },
          "execution_count": 57
        }
      ]
    },
    {
      "cell_type": "code",
      "metadata": {
        "colab": {
          "base_uri": "https://localhost:8080/"
        },
        "id": "YbOGsJqoDYPp",
        "outputId": "3a25ccef-0a2f-4289-a679-b55a5d767a35"
      },
      "source": [
        "X= main_df.drop(\"DEATH_EVENT\" , axis=1)\r\n",
        "y= main_df[\"DEATH_EVENT\"]\r\n",
        "y=y.astype('int')\r\n",
        "x_train,x_test,y_train,y_test = train_test_split(X,y,test_size=0.2,random_state=4)\r\n",
        "svm = SVC(kernel=\"linear\")\r\n",
        "svm.fit(x_train, y_train)\r\n",
        "postPcaSvmTrainScore = round(svm.score(x_train, y_train)*100,2)\r\n",
        "postPcaSvmTestScore = round(svm.score(x_test, y_test)*100,2)\r\n",
        "print(\"Training accuracy of SVM post PCA is \" + str(postPcaSvmTrainScore))\r\n",
        "print(\"Testing accuracy of SVM post PCA is \"+ str(postPcaSvmTestScore))"
      ],
      "execution_count": 58,
      "outputs": [
        {
          "output_type": "stream",
          "text": [
            "Training accuracy of SVM post PCA is 96.65\n",
            "Testing accuracy of SVM post PCA is 95.0\n"
          ],
          "name": "stdout"
        }
      ]
    },
    {
      "cell_type": "code",
      "metadata": {
        "colab": {
          "base_uri": "https://localhost:8080/"
        },
        "id": "SsQjegY6ETRJ",
        "outputId": "cd26bf3f-034f-4c71-b222-541a3af0e2ee"
      },
      "source": [
        "X= main_df.drop(\"DEATH_EVENT\" , axis=1)\r\n",
        "y= main_df[\"DEATH_EVENT\"]\r\n",
        "y=y.astype('int')\r\n",
        "x_train,x_test,y_train,y_test = train_test_split(X,y,test_size=0.2,random_state=5)\r\n",
        "rfc = RandomForestClassifier(n_estimators=50)\r\n",
        "rfc.fit(x_train, y_train)\r\n",
        "postPcaRfcTrainScore = round(rfc.score(x_train, y_train)*100,2)\r\n",
        "postPcaRfcTestScore = round(rfc.score(x_test, y_test)*100,2)\r\n",
        "print(\"Training accuracy of Random Forest post PCA is \" + str(postPcaRfcTrainScore))\r\n",
        "print(\"Testing accuracy of Random Forest post PCA is \"+ str(postPcaRfcTestScore))"
      ],
      "execution_count": 59,
      "outputs": [
        {
          "output_type": "stream",
          "text": [
            "Training accuracy of Random Forest post PCA is 100.0\n",
            "Testing accuracy of Random Forest post PCA is 91.67\n"
          ],
          "name": "stdout"
        }
      ]
    },
    {
      "cell_type": "code",
      "metadata": {
        "colab": {
          "base_uri": "https://localhost:8080/"
        },
        "id": "ZpHgrHAPEzgI",
        "outputId": "60652ddf-b778-4c01-ac7d-e37817a104f3"
      },
      "source": [
        "X= main_df.drop(\"DEATH_EVENT\" , axis=1)\r\n",
        "y= main_df[\"DEATH_EVENT\"]\r\n",
        "y=y.astype('int')\r\n",
        "x_train,x_test,y_train,y_test = train_test_split(X,y,test_size=0.2,random_state=5)\r\n",
        "nnc=MLPClassifier(hidden_layer_sizes=(10), activation=\"relu\", max_iter=10000)\r\n",
        "nnc.fit(x_train, y_train)\r\n",
        "postPcaNncTrainScore = round(nnc.score(x_train, y_train)*100,2)\r\n",
        "postPcaNncTestScore = round(nnc.score(x_test, y_test)*100,2)\r\n",
        "print(\"Training accuracy of NNC post PCA is \" + str(postPcaNncTrainScore))\r\n",
        "print(\"Testing accuracy of NNC post PCA is \"+ str(postPcaNncTestScore))"
      ],
      "execution_count": 60,
      "outputs": [
        {
          "output_type": "stream",
          "text": [
            "Training accuracy of NNC post PCA is 98.74\n",
            "Testing accuracy of NNC post PCA is 98.33\n"
          ],
          "name": "stdout"
        }
      ]
    },
    {
      "cell_type": "code",
      "metadata": {
        "colab": {
          "base_uri": "https://localhost:8080/",
          "height": 384
        },
        "id": "5hgVD-kgASTo",
        "outputId": "776d56f7-ccd6-4f55-9c11-8837af148db4"
      },
      "source": [
        "data = [[prePcaSvmTestScore, prePcaRfcTestScore, prePcaNncTestScore],\r\n",
        "[postPcaSvmTestScore, postPcaRfcTestScore, postPcaNncTestScore],\r\n",
        "[prePcaSvmTrainScore, prePcaRfcTrainScore, prePcaNncTrainScore],\r\n",
        "[postPcaSvmTrainScore, postPcaRfcTrainScore, postPcaNncTrainScore]]\r\n",
        "X = np.arange(3)\r\n",
        "\r\n",
        "fig = plt.figure()\r\n",
        "\r\n",
        "ax = fig.add_axes([0,0,1,1])\r\n",
        "\r\n",
        "ax.bar(X + 0.00, data[0], color = 'blue', width = 0.20)\r\n",
        "ax.bar(X + 0.20, data[1], color = 'green', width = 0.20)\r\n",
        "ax.bar(X + 0.40, data[2], color = 'red', width = 0.20)\r\n",
        "ax.bar(X + 0.60, data[3], color = 'maroon', width = 0.20)\r\n",
        "\r\n",
        "ax.legend(labels=['Pre PCA Test', 'Post PCA Test','Pre PCA Train','Post PCA Train'])\r\n",
        "\r\n",
        "plt.ylabel('Percentage')\r\n",
        "plt.xlabel('SVM (left), Random Forest (middle), NNC (right)')\r\n",
        "plt.title('Test Score')"
      ],
      "execution_count": 61,
      "outputs": [
        {
          "output_type": "execute_result",
          "data": {
            "text/plain": [
              "Text(0.5, 1.0, 'Test Score')"
            ]
          },
          "metadata": {
            "tags": []
          },
          "execution_count": 61
        },
        {
          "output_type": "display_data",
          "data": {
            "image/png": "[encoded data removed]",
            "text/plain": [
              "<Figure size 432x288 with 1 Axes>"
            ]
          },
          "metadata": {
            "tags": [],
            "needs_background": "light"
          }
        }
      ]
    }
  ]
}